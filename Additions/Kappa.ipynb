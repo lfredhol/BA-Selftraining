{
 "cells": [
  {
   "cell_type": "code",
   "execution_count": 8,
   "id": "851feb10",
   "metadata": {},
   "outputs": [
    {
     "name": "stdout",
     "output_type": "stream",
     "text": [
      "Durchschnittlicher Cohen's Kappa: 0.8294165391549755\n",
      "Kappa Tore und Laura: 0.8969672625025106\n",
      "Kappa Tore und Lisa: 0.7823416506717851\n",
      "Kappa Laura und Lisa: 0.8089407042906308\n",
      "Tokens annotated \"animated\" by Annotator1 and Annotator2 but not by Annotator3: ['ihre', 'Aktionäre', 'der', 'Allgemeinheit', 'diesem', 'Hause', 'der', 'Öffentlichkeit', 'das', 'Amt']\n",
      "Tokens annotated \"animated\" by Annotator1 and Annotator3 but not by Annotator2: [',', 'Kurzarbeiter', 'Beschäftigte', 'Leute', 'Heil', 'Betriebs-', 'und', 'Personalräten', 'Betriebsräte', 'die']\n",
      "Tokens annotated \"animated\" by Annotator2 and Annotator3 but not by Annotator1: ['ganze', 'Industriezweige', 'Ich', 'wir', 'wir', 'wir', 'wir', 'Wir', 'Wir', 'wir']\n"
     ]
    }
   ],
   "source": [
    "# Calculate Cohen's Kappa score for IAA\n",
    "\n",
    "import pandas as pd\n",
    "from sklearn.metrics import cohen_kappa_score\n",
    "\n",
    "def calculate_cohens_kappa(file1, file2, file3):\n",
    "    df1 = pd.read_csv(file1, sep='\\t', quotechar=\"'\", comment='#', header=None, on_bad_lines='skip')\n",
    "    df2 = pd.read_csv(file2, sep='\\t', quotechar=\"'\", comment='#', header=None, on_bad_lines='skip')\n",
    "    df3 = pd.read_csv(file3, sep='\\t', quotechar=\"'\", comment='#', header=None, on_bad_lines='skip')\n",
    "\n",
    "    df1 = df1[df1[df1.columns[3]].notna()]\n",
    "    df2 = df2[df2[df2.columns[3]].notna()]\n",
    "    df3 = df3[df3[df3.columns[3]].notna()]\n",
    "\n",
    "    df1['is_animated'] = df1[3].str.startswith('Animated')\n",
    "    df2['is_animated'] = df2[3].str.startswith('Animated')\n",
    "    df3['is_animated'] = df3[3].str.startswith('Animated')\n",
    "\n",
    "    labels1 = df1['is_animated']\n",
    "    labels2 = df2['is_animated']\n",
    "    labels3 = df3['is_animated']\n",
    "\n",
    "    kappa12 = cohen_kappa_score(labels1, labels2)\n",
    "    kappa13 = cohen_kappa_score(labels1, labels3)\n",
    "    kappa23 = cohen_kappa_score(labels2, labels3)\n",
    "\n",
    "    return df1, df2, df3, (kappa12 + kappa13 + kappa23) / 3, kappa12, kappa13, kappa23\n",
    "\n",
    "df1, df2, df3, kappa, kappa12, kappa13, kappa23 = compute_cohens_kappa('admin.tsv', 'Laura.tsv', 'Lisa.tsv')\n",
    "print(f'Durchschnittlicher Cohen\\'s Kappa: {kappa}')\n",
    "print(f'Kappa Tore und Laura: {kappa12}')\n",
    "print(f'Kappa Tore und Lisa: {kappa13}')\n",
    "print(f'Kappa Laura und Lisa: {kappa23}')\n",
    "\n",
    "def find_discrepant_annotations(df1, df2, df3, num_samples=10):\n",
    "    agrees12 = (df1['is_animated'] == df2['is_animated']) & (df1['is_animated'] != df3['is_animated'])\n",
    "    agrees13 = (df1['is_animated'] == df3['is_animated']) & (df1['is_animated'] != df2['is_animated'])\n",
    "    agrees23 = (df2['is_animated'] == df3['is_animated']) & (df2['is_animated'] != df1['is_animated'])\n",
    "\n",
    "    samples12 = df1[agrees12][2].tolist()[:num_samples]\n",
    "    samples13 = df1[agrees13][2].tolist()[:num_samples]\n",
    "    samples23 = df2[agrees23][2].tolist()[:num_samples]\n",
    "\n",
    "    return samples12, samples13, samples23\n",
    "\n",
    "samples12, samples13, samples23 = find_discrepant_annotations(df1, df2, df3)\n",
    "print(f'Tokens annotated \"animated\" by Annotator1 and Annotator2 but not by Annotator3: {samples12}')\n",
    "print(f'Tokens annotated \"animated\" by Annotator1 and Annotator3 but not by Annotator2: {samples13}')\n",
    "print(f'Tokens annotated \"animated\" by Annotator2 and Annotator3 but not by Annotator1: {samples23}')\n",
    "\n"
   ]
  },
  {
   "cell_type": "code",
   "execution_count": null,
   "id": "a4b8d234",
   "metadata": {},
   "outputs": [],
   "source": []
  },
  {
   "cell_type": "code",
   "execution_count": null,
   "id": "39d0d0d8",
   "metadata": {},
   "outputs": [],
   "source": []
  }
 ],
 "metadata": {
  "kernelspec": {
   "display_name": "Python 3 (ipykernel)",
   "language": "python",
   "name": "python3"
  },
  "language_info": {
   "codemirror_mode": {
    "name": "ipython",
    "version": 3
   },
   "file_extension": ".py",
   "mimetype": "text/x-python",
   "name": "python",
   "nbconvert_exporter": "python",
   "pygments_lexer": "ipython3",
   "version": "3.9.13"
  }
 },
 "nbformat": 4,
 "nbformat_minor": 5
}
